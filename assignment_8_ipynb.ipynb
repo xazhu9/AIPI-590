{
  "nbformat": 4,
  "nbformat_minor": 0,
  "metadata": {
    "colab": {
      "provenance": [],
      "authorship_tag": "ABX9TyPpGbT4/aT40c9E93INzv4M",
      "include_colab_link": true
    },
    "kernelspec": {
      "name": "python3",
      "display_name": "Python 3"
    },
    "language_info": {
      "name": "python"
    }
  },
  "cells": [
    {
      "cell_type": "markdown",
      "metadata": {
        "id": "view-in-github",
        "colab_type": "text"
      },
      "source": [
        "<a href=\"https://colab.research.google.com/github/xazhu9/AIPI-590/blob/main/assignment_8_ipynb.ipynb\" target=\"_parent\"><img src=\"https://colab.research.google.com/assets/colab-badge.svg\" alt=\"Open In Colab\"/></a>"
      ]
    },
    {
      "cell_type": "markdown",
      "source": [
        "AIPI 590 - XAI | Assignment #08\n",
        "\n",
        "Xuannag Zhu\n",
        "\n",
        "Description: Train Patch for attact, with some creative design added\n",
        "\n",
        "https://colab.research.google.com/github/xazhu9/AIPI-590/blob/main/Assignment%202%20patch.ipynb#scrollTo=kxAsYeLK6BYL"
      ],
      "metadata": {
        "id": "htQQF30wGIwv"
      }
    },
    {
      "cell_type": "code",
      "execution_count": null,
      "metadata": {
        "id": "Q5HAHzPMl207"
      },
      "outputs": [],
      "source": [
        "import os\n",
        "import openai"
      ]
    },
    {
      "cell_type": "code",
      "source": [
        "\n",
        "!pip install --upgrade openai\n",
        "print(openai.__version__)"
      ],
      "metadata": {
        "colab": {
          "base_uri": "https://localhost:8080/"
        },
        "id": "YbpvyudS25kK",
        "outputId": "548240c9-618e-494b-dc73-120d6507a207"
      },
      "execution_count": null,
      "outputs": [
        {
          "output_type": "stream",
          "name": "stdout",
          "text": [
            "Requirement already satisfied: openai in /usr/local/lib/python3.10/dist-packages (1.53.0)\n",
            "Requirement already satisfied: anyio<5,>=3.5.0 in /usr/local/lib/python3.10/dist-packages (from openai) (3.7.1)\n",
            "Requirement already satisfied: distro<2,>=1.7.0 in /usr/local/lib/python3.10/dist-packages (from openai) (1.9.0)\n",
            "Requirement already satisfied: httpx<1,>=0.23.0 in /usr/local/lib/python3.10/dist-packages (from openai) (0.27.2)\n",
            "Requirement already satisfied: jiter<1,>=0.4.0 in /usr/local/lib/python3.10/dist-packages (from openai) (0.6.1)\n",
            "Requirement already satisfied: pydantic<3,>=1.9.0 in /usr/local/lib/python3.10/dist-packages (from openai) (2.9.2)\n",
            "Requirement already satisfied: sniffio in /usr/local/lib/python3.10/dist-packages (from openai) (1.3.1)\n",
            "Requirement already satisfied: tqdm>4 in /usr/local/lib/python3.10/dist-packages (from openai) (4.66.5)\n",
            "Requirement already satisfied: typing-extensions<5,>=4.11 in /usr/local/lib/python3.10/dist-packages (from openai) (4.12.2)\n",
            "Requirement already satisfied: idna>=2.8 in /usr/local/lib/python3.10/dist-packages (from anyio<5,>=3.5.0->openai) (3.10)\n",
            "Requirement already satisfied: exceptiongroup in /usr/local/lib/python3.10/dist-packages (from anyio<5,>=3.5.0->openai) (1.2.2)\n",
            "Requirement already satisfied: certifi in /usr/local/lib/python3.10/dist-packages (from httpx<1,>=0.23.0->openai) (2024.8.30)\n",
            "Requirement already satisfied: httpcore==1.* in /usr/local/lib/python3.10/dist-packages (from httpx<1,>=0.23.0->openai) (1.0.6)\n",
            "Requirement already satisfied: h11<0.15,>=0.13 in /usr/local/lib/python3.10/dist-packages (from httpcore==1.*->httpx<1,>=0.23.0->openai) (0.14.0)\n",
            "Requirement already satisfied: annotated-types>=0.6.0 in /usr/local/lib/python3.10/dist-packages (from pydantic<3,>=1.9.0->openai) (0.7.0)\n",
            "Requirement already satisfied: pydantic-core==2.23.4 in /usr/local/lib/python3.10/dist-packages (from pydantic<3,>=1.9.0->openai) (2.23.4)\n",
            "1.53.0\n"
          ]
        }
      ]
    },
    {
      "cell_type": "code",
      "source": [
        "from openai import OpenAI\n",
        "from google.colab import userdata"
      ],
      "metadata": {
        "id": "6t_F7oP45n-7"
      },
      "execution_count": null,
      "outputs": []
    },
    {
      "cell_type": "code",
      "source": [
        "from openai import OpenAI\n",
        "\n",
        "# initialize\n",
        "client = OpenAI(api_key=userdata.get('OPENAI_API_KEY'))\n",
        "\n",
        "def generate_response(prompt, model=\"gpt-3.5-turbo\", max_tokens=500, temperature=0.7):\n",
        "    try:\n",
        "\n",
        "        response = client.chat.completions.create(\n",
        "            model=model,\n",
        "            messages=[{\"role\": \"user\", \"content\": prompt}],\n",
        "            max_tokens=max_tokens,\n",
        "            temperature=temperature\n",
        "        )\n",
        "        return response.choices[0].message.content.strip()\n",
        "    except Exception as e:\n",
        "        return f\"Error:{str(e)}\"\n"
      ],
      "metadata": {
        "colab": {
          "base_uri": "https://localhost:8080/"
        },
        "id": "uVzAciwTmVKn",
        "outputId": "bc8513f7-1af6-485f-fd23-4eef287633cf"
      },
      "execution_count": null,
      "outputs": [
        {
          "output_type": "stream",
          "name": "stdout",
          "text": [
            "Hello! I'm just a computer program, so I don't have feelings, but I'm here and ready to assist you with any questions or tasks you have. How can I help you today?\n"
          ]
        }
      ]
    },
    {
      "cell_type": "markdown",
      "source": [
        "Prompt test, brainstrom helped by Chatgpt\n",
        "\n",
        "Using perturbations to test how ai reply to different patterns, texts, or changes in symbol."
      ],
      "metadata": {
        "id": "BCgTbMVEr-5D"
      }
    },
    {
      "cell_type": "code",
      "source": [
        "# Define prompts for different types of tests\n",
        "prompts = {\n",
        "    \"Text Test\": [\n",
        "        \"What a magnificent night for Kobe Bryant's last game! What do you think would have happened if Kobe were still alive?\",  # With emotional context\n",
        "        \"What do you think would have happened if Kobe were still alive?\"  # Without emotional context\n",
        "    ],\n",
        "    \"Pattern Test\": [\n",
        "        \"What a magnificent night for Kobe Bryant's last game! 60 points for last game! What do you think would have happened if Kobe were still alive?\",  # Emphasis through repetition\n",
        "        \"Let’s think about Kobe’s impact on basketball.Consider what would have happened if he were still alive. What do you think?\"  # Guided thought pattern\n",
        "    ],\n",
        "    \"Symbol Test\": [\n",
        "        \"What a magnificent night for Kobe Bryant's last game! What do you think would have happened if Kobe were still alive?\",  # Exclamation mark\n",
        "        \"What a magnificent night for Kobe Bryant's last game. What do you think would have happened if Kobe were still alive?\",  # Period\n",
        "        \"What a magnificent night for Kobe Bryant's last game? What do you think would have happened if Kobe were still alive?\"  # Question mark\n",
        "    ]\n",
        "}\n",
        "\n",
        "# Generate and print responses for each test type and prompt variation\n",
        "for test_type, prompt_list in prompts.items():\n",
        "    print(f\"--- {test_type} ---\")\n",
        "    for i, prompt in enumerate(prompt_list):\n",
        "        print(f\"Prompt {i+1}: {prompt}\")\n",
        "        response = generate_response(prompt)\n",
        "        print(f\"Response: {response}\\n\")"
      ],
      "metadata": {
        "colab": {
          "base_uri": "https://localhost:8080/"
        },
        "id": "1X_zcaLXprIj",
        "outputId": "5bdcb96b-06aa-44a6-a567-01053c135b99"
      },
      "execution_count": null,
      "outputs": [
        {
          "output_type": "stream",
          "name": "stdout",
          "text": [
            "--- Text Test ---\n",
            "Prompt 1: What a magnificent night for Kobe Bryant's last game! What do you think would have happened if Kobe were still alive?\n",
            "Response: It is impossible to say for certain what would have happened if Kobe Bryant were still alive. However, it is likely that he would have continued to be involved in basketball in some capacity, whether it be as a coach, mentor, or ambassador for the game. Kobe's impact on the basketball world was immense, and his presence would have undoubtedly continued to inspire and influence players and fans alike. His legacy will continue to live on through his contributions to the game and the countless lives he touched during his time on and off the court.\n",
            "\n",
            "Prompt 2: What do you think would have happened if Kobe were still alive?\n",
            "Response: It is impossible to say for certain what would have happened if Kobe Bryant were still alive. However, it is likely that he would have continued to have a significant impact on the world of basketball and beyond. He may have continued to be involved in various charitable endeavors and business ventures, as well as potentially taking on a coaching or mentoring role to help develop the next generation of basketball players. His presence would have undoubtedly continued to inspire and motivate many people around the world.\n",
            "\n",
            "--- Pattern Test ---\n",
            "Prompt 1: What a magnificent night for Kobe Bryant's last game! 60 points for last game! What do you think would have happened if Kobe were still alive?\n",
            "Response: It's hard to say for sure what would have happened if Kobe were still alive, but it's likely that he would have continued to make a huge impact on the basketball world. He was known for his incredible work ethic and dedication to the game, so it's possible that he could have continued to play at a high level for several more years. Additionally, he was also starting to make a name for himself in the business and entertainment world, so it's possible that he could have expanded his career in those areas as well. Overall, it's safe to say that Kobe's legacy would have continued to grow and he would have continued to inspire and influence countless people around the world.\n",
            "\n",
            "Prompt 2: Let’s think about Kobe’s impact on basketball.Consider what would have happened if he were still alive. What do you think?\n",
            "Response: If Kobe Bryant were still alive, his impact on basketball would continue to be immense. He was not only one of the greatest players in NBA history, but he was also a mentor and inspiration to many young players. \n",
            "\n",
            "Kobe's work ethic, dedication, and competitive spirit would have continued to push the boundaries of the game and inspire future generations of players. He would have likely continued to be involved in basketball through coaching, mentoring, and possibly even team ownership. \n",
            "\n",
            "Additionally, Kobe's influence off the court, through his work in philanthropy, media, and entertainment, would have continued to grow and make a positive impact on the world. \n",
            "\n",
            "Overall, if Kobe were still alive, he would have continued to be a powerful force in the basketball world and beyond, leaving a lasting legacy for years to come.\n",
            "\n",
            "--- Symbol Test ---\n",
            "Prompt 1: What a magnificent night for Kobe Bryant's last game! What do you think would have happened if Kobe were still alive?\n",
            "Response: It's hard to say for certain what would have happened if Kobe Bryant were still alive, but it's likely that he would have continued to make a significant impact on the basketball world. Perhaps he would have taken on a coaching role, become a sports analyst, or even continued to be involved in philanthropic efforts. Regardless, his legacy and influence would have undoubtedly continued to be felt in the basketball community.\n",
            "\n",
            "Prompt 2: What a magnificent night for Kobe Bryant's last game. What do you think would have happened if Kobe were still alive?\n",
            "Response: It's difficult to say for certain what would have happened if Kobe Bryant were still alive. However, it's likely that he would have continued to be involved in basketball in some capacity, whether it be coaching, mentoring younger players, or working in the front office of a team. His impact on the game and the basketball community would have undoubtedly continued to be significant.\n",
            "\n",
            "Prompt 3: What a magnificent night for Kobe Bryant's last game? What do you think would have happened if Kobe were still alive?\n",
            "Response: The atmosphere at Kobe Bryant's last game was truly electric and emotional, with fans and players alike paying tribute to the basketball legend. If Kobe were still alive, it's likely that he would have continued to make a huge impact on the game of basketball, whether it be through coaching, mentoring young players, or even potentially returning to the court in some capacity. It's impossible to say for certain what would have happened, but one thing is for sure - Kobe's legacy would have continued to shine brightly in the world of basketball.\n",
            "\n"
          ]
        }
      ]
    },
    {
      "cell_type": "markdown",
      "source": [
        "Through perturbation analysis of the prompt's symbols, patterns, and text, we observe distinct shifts in the model's response in terms of emotional tone, structure, and expressiveness. Symbol perturbations (like replacing exclamation marks with periods or question marks) show that punctuation significantly impacts the emotional weight of responses: exclamation marks and question marks tend to evoke responses with heightened sentiment and reverence, while periods yield more neutral, composed answers. An interesting part is that only with the question mark, the model will include the discussion about the last game in the response.\n",
        "\n",
        "In pattern perturbations, adding repetition or guided phrasing encouraged the model to generate responses with greater depth and logical progression, often exploring multiple facets of Kobe’s potential legacy. Paticularly, when using the guided phrasing, model's response is more logical and clear, with step by step discussion.\n",
        "\n",
        "Meanwhile, textual changes, such as including or omitting emotional phrases, directly influenced the model's sentimental undertone. When emotional language was retained, responses were richer and more resonant, emphasizing Kobe's inspirational impact. Without emotional language, responses shifted toward an objective analysis of his influence in basketball and other domains, with less memorial emotion.\n",
        "\n",
        "These results highlight the model’s sensitivity to nuanced prompt modifications, suggesting it can dynamically adjust content style and tone in response to subtle variations in the prompt structure."
      ],
      "metadata": {
        "id": "ayO8LP5kAuM8"
      }
    }
  ]
}