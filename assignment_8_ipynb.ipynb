{
  "nbformat": 4,
  "nbformat_minor": 0,
  "metadata": {
    "colab": {
      "provenance": [],
      "authorship_tag": "ABX9TyPoI40ez4NmSaicbdcu0U5H",
      "include_colab_link": true
    },
    "kernelspec": {
      "name": "python3",
      "display_name": "Python 3"
    },
    "language_info": {
      "name": "python"
    }
  },
  "cells": [
    {
      "cell_type": "markdown",
      "metadata": {
        "id": "view-in-github",
        "colab_type": "text"
      },
      "source": [
        "<a href=\"https://colab.research.google.com/github/xazhu9/AIPI-590/blob/main/assignment_8_ipynb.ipynb\" target=\"_parent\"><img src=\"https://colab.research.google.com/assets/colab-badge.svg\" alt=\"Open In Colab\"/></a>"
      ]
    },
    {
      "cell_type": "markdown",
      "source": [
        "AIPI 590 - XAI | Assignment #08\n",
        "\n",
        "Xuannag Zhu\n",
        "\n",
        "Description: Train Patch for attact, with some creative design added\n",
        "\n",
        "https://colab.research.google.com/github/xazhu9/AIPI-590/blob/main/Assignment%202%20patch.ipynb#scrollTo=kxAsYeLK6BYL"
      ],
      "metadata": {
        "id": "htQQF30wGIwv"
      }
    },
    {
      "cell_type": "code",
      "execution_count": 1,
      "metadata": {
        "id": "Q5HAHzPMl207"
      },
      "outputs": [],
      "source": [
        "import os\n",
        "import openai\n",
        "from openai import OpenAI\n",
        "from google.colab import userdata"
      ]
    },
    {
      "cell_type": "code",
      "source": [
        "!pip install --upgrade openai"
      ],
      "metadata": {
        "colab": {
          "base_uri": "https://localhost:8080/"
        },
        "id": "YbpvyudS25kK",
        "outputId": "9b8d4740-6e60-4710-d34b-f28e14030a51"
      },
      "execution_count": 2,
      "outputs": [
        {
          "output_type": "stream",
          "name": "stdout",
          "text": [
            "Requirement already satisfied: openai in /usr/local/lib/python3.10/dist-packages (1.52.2)\n",
            "Collecting openai\n",
            "  Downloading openai-1.53.0-py3-none-any.whl.metadata (24 kB)\n",
            "Requirement already satisfied: anyio<5,>=3.5.0 in /usr/local/lib/python3.10/dist-packages (from openai) (3.7.1)\n",
            "Requirement already satisfied: distro<2,>=1.7.0 in /usr/local/lib/python3.10/dist-packages (from openai) (1.9.0)\n",
            "Requirement already satisfied: httpx<1,>=0.23.0 in /usr/local/lib/python3.10/dist-packages (from openai) (0.27.2)\n",
            "Requirement already satisfied: jiter<1,>=0.4.0 in /usr/local/lib/python3.10/dist-packages (from openai) (0.6.1)\n",
            "Requirement already satisfied: pydantic<3,>=1.9.0 in /usr/local/lib/python3.10/dist-packages (from openai) (2.9.2)\n",
            "Requirement already satisfied: sniffio in /usr/local/lib/python3.10/dist-packages (from openai) (1.3.1)\n",
            "Requirement already satisfied: tqdm>4 in /usr/local/lib/python3.10/dist-packages (from openai) (4.66.5)\n",
            "Requirement already satisfied: typing-extensions<5,>=4.11 in /usr/local/lib/python3.10/dist-packages (from openai) (4.12.2)\n",
            "Requirement already satisfied: idna>=2.8 in /usr/local/lib/python3.10/dist-packages (from anyio<5,>=3.5.0->openai) (3.10)\n",
            "Requirement already satisfied: exceptiongroup in /usr/local/lib/python3.10/dist-packages (from anyio<5,>=3.5.0->openai) (1.2.2)\n",
            "Requirement already satisfied: certifi in /usr/local/lib/python3.10/dist-packages (from httpx<1,>=0.23.0->openai) (2024.8.30)\n",
            "Requirement already satisfied: httpcore==1.* in /usr/local/lib/python3.10/dist-packages (from httpx<1,>=0.23.0->openai) (1.0.6)\n",
            "Requirement already satisfied: h11<0.15,>=0.13 in /usr/local/lib/python3.10/dist-packages (from httpcore==1.*->httpx<1,>=0.23.0->openai) (0.14.0)\n",
            "Requirement already satisfied: annotated-types>=0.6.0 in /usr/local/lib/python3.10/dist-packages (from pydantic<3,>=1.9.0->openai) (0.7.0)\n",
            "Requirement already satisfied: pydantic-core==2.23.4 in /usr/local/lib/python3.10/dist-packages (from pydantic<3,>=1.9.0->openai) (2.23.4)\n",
            "Downloading openai-1.53.0-py3-none-any.whl (387 kB)\n",
            "\u001b[2K   \u001b[90m━━━━━━━━━━━━━━━━━━━━━━━━━━━━━━━━━━━━━━━━\u001b[0m \u001b[32m387.1/387.1 kB\u001b[0m \u001b[31m6.4 MB/s\u001b[0m eta \u001b[36m0:00:00\u001b[0m\n",
            "\u001b[?25hInstalling collected packages: openai\n",
            "  Attempting uninstall: openai\n",
            "    Found existing installation: openai 1.52.2\n",
            "    Uninstalling openai-1.52.2:\n",
            "      Successfully uninstalled openai-1.52.2\n",
            "Successfully installed openai-1.53.0\n",
            "1.52.2\n"
          ]
        }
      ]
    },
    {
      "cell_type": "code",
      "source": [
        "def generate_response(prompt, model=\"gpt-3.5-turbo\", max_tokens=500, temperature=0.7):\n",
        "    try:\n",
        "\n",
        "        response = client.chat.completions.create(\n",
        "            model=model,\n",
        "            messages=[{\"role\": \"user\", \"content\": prompt}],\n",
        "            max_tokens=max_tokens,\n",
        "            temperature=temperature\n",
        "        )\n",
        "        return response.choices[0].message.content.strip()\n",
        "    except Exception as e:\n",
        "        return f\"Error:{str(e)}\"\n"
      ],
      "metadata": {
        "id": "uVzAciwTmVKn"
      },
      "execution_count": 3,
      "outputs": []
    },
    {
      "cell_type": "markdown",
      "source": [
        "Prompt test, brainstrom helped by Chatgpt\n",
        "\n",
        "Using perturbations to test how ai reply to different patterns, texts, or changes in symbol."
      ],
      "metadata": {
        "id": "BCgTbMVEr-5D"
      }
    },
    {
      "cell_type": "code",
      "source": [
        "client = OpenAI(api_key=userdata.get('OPENAI_API_KEY'))\n",
        "# Define prompts for different types of tests\n",
        "prompts = {\n",
        "    \"Text Test\": [\n",
        "        \"What a magnificent night for Kobe Bryant's last game! What do you think would have happened if Kobe were still alive?\",  # With emotional context\n",
        "        \"What do you think would have happened if Kobe were still alive?\"  # Without emotional context\n",
        "    ],\n",
        "    \"Pattern Test\": [\n",
        "        \"What a magnificent night for Kobe Bryant's last game! 60 points for last game! What do you think would have happened if Kobe were still alive?\",  # Emphasis through repetition\n",
        "        \"Let’s think about Kobe’s impact on basketball.Consider what would have happened if he were still alive. What do you think?\"  # Guided thought pattern\n",
        "    ],\n",
        "    \"Symbol Test\": [\n",
        "        \"What a magnificent night for Kobe Bryant's last game! What do you think would have happened if Kobe were still alive?\",  # Exclamation mark\n",
        "        \"What a magnificent night for Kobe Bryant's last game. What do you think would have happened if Kobe were still alive?\",  # Period\n",
        "        \"What a magnificent night for Kobe Bryant's last game? What do you think would have happened if Kobe were still alive?\"  # Question mark\n",
        "    ]\n",
        "}\n",
        "\n",
        "# Generate and print responses for each test type and prompt variation\n",
        "for test_type, prompt_list in prompts.items():\n",
        "    print(f\"--- {test_type} ---\")\n",
        "    for i, prompt in enumerate(prompt_list):\n",
        "        print(f\"Prompt {i+1}: {prompt}\")\n",
        "        response = generate_response(prompt)\n",
        "        print(f\"Response: {response}\\n\")"
      ],
      "metadata": {
        "colab": {
          "base_uri": "https://localhost:8080/"
        },
        "id": "1X_zcaLXprIj",
        "outputId": "27316f01-1397-4b34-927c-e52176989ecb"
      },
      "execution_count": 5,
      "outputs": [
        {
          "output_type": "stream",
          "name": "stdout",
          "text": [
            "--- Text Test ---\n",
            "Prompt 1: What a magnificent night for Kobe Bryant's last game! What do you think would have happened if Kobe were still alive?\n",
            "Response: It's impossible to say for certain what would have happened if Kobe Bryant were still alive, as so much would depend on various factors such as his health, age, and team situation. However, it's likely that he would still be making a significant impact on the basketball world, whether through his playing career, coaching, or other endeavors. Kobe was known for his work ethic and determination, so it's safe to assume that he would have continued to excel in whatever he chose to pursue.\n",
            "\n",
            "Prompt 2: What do you think would have happened if Kobe were still alive?\n",
            "Response: It is impossible to say for certain what would have happened if Kobe Bryant were still alive. However, it is likely that he would have continued to be a prominent figure in the basketball world, both on and off the court. He may have continued to be involved in the sport as a coach, mentor, or commentator, and could have also made further contributions to philanthropy and advocacy efforts. Additionally, his presence would have undoubtedly continued to inspire and impact countless fans and athletes around the world.\n",
            "\n",
            "--- Pattern Test ---\n",
            "Prompt 1: What a magnificent night for Kobe Bryant's last game! 60 points for last game! What do you think would have happened if Kobe were still alive?\n",
            "Response: It's impossible to say for certain what would have happened if Kobe Bryant were still alive, but it's likely that he would have continued to make a significant impact on the basketball world. He was known for his incredible work ethic and dedication to the game, so it's possible that he would have continued to excel on the court and inspire others with his passion for basketball. Additionally, he was beginning to make a name for himself in the business world and in other ventures outside of basketball, so he likely would have continued to be a successful and influential figure in various fields. Ultimately, it's clear that Kobe's legacy will continue to live on and inspire others for years to come.\n",
            "\n",
            "Prompt 2: Let’s think about Kobe’s impact on basketball.Consider what would have happened if he were still alive. What do you think?\n",
            "Response: If Kobe Bryant were still alive, his impact on basketball would have continued to be significant. He would have likely remained involved in the sport as a mentor, coach, or ambassador, using his experience and knowledge to inspire and guide the next generation of players. His influence on the game would have continued to be felt through his work ethic, dedication, and passion for the sport.\n",
            "\n",
            "Additionally, Kobe's presence would have undoubtedly continued to elevate the profile of the NBA and basketball as a whole. His popularity and charisma would have continued to attract fans and viewers, further expanding the reach and influence of the sport.\n",
            "\n",
            "Overall, if Kobe were still alive, he would have continued to be a powerful force in the world of basketball, shaping the future of the sport and inspiring generations of players to come.\n",
            "\n",
            "--- Symbol Test ---\n",
            "Prompt 1: What a magnificent night for Kobe Bryant's last game! What do you think would have happened if Kobe were still alive?\n",
            "Response: It's hard to say for certain, but I imagine Kobe would still be making a significant impact on the basketball world. Perhaps he would have transitioned into coaching or mentoring younger players, or maybe he would have continued to be involved in various philanthropic efforts. Regardless, Kobe's legacy would have undoubtedly continued to inspire and influence the next generation of basketball players.\n",
            "\n",
            "Prompt 2: What a magnificent night for Kobe Bryant's last game. What do you think would have happened if Kobe were still alive?\n",
            "Response: It's impossible to say for certain what would have happened if Kobe Bryant were still alive. However, it's likely that he would have continued to be involved in basketball in some capacity, whether that be coaching, mentoring young players, or working in a front office role. Kobe was known for his relentless work ethic and dedication to the game, so it's possible that he would have found success in whatever path he chose to pursue. Ultimately, the basketball world will never be the same without Kobe, but his legacy will continue to inspire and influence generations of players to come.\n",
            "\n",
            "Prompt 3: What a magnificent night for Kobe Bryant's last game? What do you think would have happened if Kobe were still alive?\n",
            "Response: It's hard to say what would have happened if Kobe Bryant were still alive. He was such a talented and driven player that it's likely he would still be making a significant impact in the basketball world. Perhaps he would have continued to play for the Los Angeles Lakers, or maybe he would have transitioned into coaching or mentoring younger players. Regardless, his legacy would undoubtedly continue to inspire and influence the game of basketball for years to come.\n",
            "\n"
          ]
        }
      ]
    },
    {
      "cell_type": "markdown",
      "source": [
        "Through perturbation analysis of the prompt's symbols, patterns, and text, we observe distinct shifts in the model's response in terms of emotional tone, structure, and expressiveness. Symbol perturbations (like replacing exclamation marks with periods or question marks) show that punctuation significantly impacts the emotional weight of responses: exclamation marks and question marks tend to evoke responses with heightened sentiment and reverence, while periods yield more neutral, composed answers. (An interesting part is that only with the question mark in the first sentence, the model somtimes will include the discussion about the last game in the response.)\n",
        "\n",
        "In pattern perturbations, adding repetition or guided phrasing encouraged the model to generate responses with greater depth and logical progression, often exploring multiple facets of Kobe’s potential legacy. Paticularly, when using the guided phrasing, model's response is more logical and clear, with step by step discussion.\n",
        "\n",
        "Meanwhile, textual changes, such as including or omitting emotional phrases, directly influenced the model's sentimental undertone. When emotional language was retained, responses were richer and more resonant, emphasizing Kobe's inspirational impact. Without emotional language, responses shifted toward an objective analysis of his influence in basketball and other domains, with less memorial emotion.\n",
        "\n",
        "These results highlight the model’s sensitivity to nuanced prompt modifications, suggesting it can dynamically adjust content style and tone in response to subtle variations in the prompt structure."
      ],
      "metadata": {
        "id": "ayO8LP5kAuM8"
      }
    }
  ]
}